{
 "cells": [
  {
   "attachments": {},
   "cell_type": "markdown",
   "metadata": {},
   "source": [
    "### Preparação"
   ]
  },
  {
   "cell_type": "code",
   "execution_count": 31,
   "metadata": {},
   "outputs": [
    {
     "name": "stdout",
     "output_type": "stream",
     "text": [
      "Requirement already satisfied: pandas in /home/vinimarcili/anaconda3/envs/geoloc/lib/python3.9/site-packages (1.5.3)\n",
      "Requirement already satisfied: python-dateutil>=2.8.1 in /home/vinimarcili/anaconda3/envs/geoloc/lib/python3.9/site-packages (from pandas) (2.8.2)\n",
      "Requirement already satisfied: numpy>=1.20.3 in /home/vinimarcili/anaconda3/envs/geoloc/lib/python3.9/site-packages (from pandas) (1.24.2)\n",
      "Requirement already satisfied: pytz>=2020.1 in /home/vinimarcili/anaconda3/envs/geoloc/lib/python3.9/site-packages (from pandas) (2022.7.1)\n",
      "Requirement already satisfied: six>=1.5 in /home/vinimarcili/anaconda3/envs/geoloc/lib/python3.9/site-packages (from python-dateutil>=2.8.1->pandas) (1.16.0)\n",
      "Requirement already satisfied: geopandas in /home/vinimarcili/anaconda3/envs/geoloc/lib/python3.9/site-packages (0.12.2)\n",
      "Requirement already satisfied: shapely>=1.7 in /home/vinimarcili/anaconda3/envs/geoloc/lib/python3.9/site-packages (from geopandas) (2.0.1)\n",
      "Requirement already satisfied: fiona>=1.8 in /home/vinimarcili/anaconda3/envs/geoloc/lib/python3.9/site-packages (from geopandas) (1.9.1)\n",
      "Requirement already satisfied: pandas>=1.0.0 in /home/vinimarcili/anaconda3/envs/geoloc/lib/python3.9/site-packages (from geopandas) (1.5.3)\n",
      "Requirement already satisfied: pyproj>=2.6.1.post1 in /home/vinimarcili/anaconda3/envs/geoloc/lib/python3.9/site-packages (from geopandas) (3.4.1)\n",
      "Requirement already satisfied: packaging in /home/vinimarcili/anaconda3/envs/geoloc/lib/python3.9/site-packages (from geopandas) (23.0)\n",
      "Requirement already satisfied: munch>=2.3.2 in /home/vinimarcili/anaconda3/envs/geoloc/lib/python3.9/site-packages (from fiona>=1.8->geopandas) (2.5.0)\n",
      "Requirement already satisfied: click~=8.0 in /home/vinimarcili/anaconda3/envs/geoloc/lib/python3.9/site-packages (from fiona>=1.8->geopandas) (8.1.3)\n",
      "Requirement already satisfied: cligj>=0.5 in /home/vinimarcili/anaconda3/envs/geoloc/lib/python3.9/site-packages (from fiona>=1.8->geopandas) (0.7.2)\n",
      "Requirement already satisfied: click-plugins>=1.0 in /home/vinimarcili/anaconda3/envs/geoloc/lib/python3.9/site-packages (from fiona>=1.8->geopandas) (1.1.1)\n",
      "Requirement already satisfied: certifi in /home/vinimarcili/anaconda3/envs/geoloc/lib/python3.9/site-packages (from fiona>=1.8->geopandas) (2022.12.7)\n",
      "Requirement already satisfied: attrs>=19.2.0 in /home/vinimarcili/anaconda3/envs/geoloc/lib/python3.9/site-packages (from fiona>=1.8->geopandas) (22.2.0)\n",
      "Requirement already satisfied: setuptools in /home/vinimarcili/anaconda3/envs/geoloc/lib/python3.9/site-packages (from fiona>=1.8->geopandas) (65.6.3)\n",
      "Requirement already satisfied: numpy>=1.20.3 in /home/vinimarcili/anaconda3/envs/geoloc/lib/python3.9/site-packages (from pandas>=1.0.0->geopandas) (1.24.2)\n",
      "Requirement already satisfied: pytz>=2020.1 in /home/vinimarcili/anaconda3/envs/geoloc/lib/python3.9/site-packages (from pandas>=1.0.0->geopandas) (2022.7.1)\n",
      "Requirement already satisfied: python-dateutil>=2.8.1 in /home/vinimarcili/anaconda3/envs/geoloc/lib/python3.9/site-packages (from pandas>=1.0.0->geopandas) (2.8.2)\n",
      "Requirement already satisfied: six in /home/vinimarcili/anaconda3/envs/geoloc/lib/python3.9/site-packages (from munch>=2.3.2->fiona>=1.8->geopandas) (1.16.0)\n"
     ]
    }
   ],
   "source": [
    "!pip install pandas\n",
    "!pip install geopandas"
   ]
  },
  {
   "cell_type": "code",
   "execution_count": 32,
   "metadata": {},
   "outputs": [],
   "source": [
    "import pandas as pd\n",
    "import geopandas as gpd\n",
    "from shapely.geometry import Point"
   ]
  },
  {
   "cell_type": "code",
   "execution_count": 33,
   "metadata": {},
   "outputs": [
    {
     "data": {
      "text/html": [
       "<div>\n",
       "<style scoped>\n",
       "    .dataframe tbody tr th:only-of-type {\n",
       "        vertical-align: middle;\n",
       "    }\n",
       "\n",
       "    .dataframe tbody tr th {\n",
       "        vertical-align: top;\n",
       "    }\n",
       "\n",
       "    .dataframe thead th {\n",
       "        text-align: right;\n",
       "    }\n",
       "</style>\n",
       "<table border=\"1\" class=\"dataframe\">\n",
       "  <thead>\n",
       "    <tr style=\"text-align: right;\">\n",
       "      <th></th>\n",
       "      <th>ID</th>\n",
       "      <th>latitude</th>\n",
       "      <th>longitude</th>\n",
       "    </tr>\n",
       "  </thead>\n",
       "  <tbody>\n",
       "    <tr>\n",
       "      <th>0</th>\n",
       "      <td>0</td>\n",
       "      <td>-22.481797</td>\n",
       "      <td>-45.598899</td>\n",
       "    </tr>\n",
       "    <tr>\n",
       "      <th>1</th>\n",
       "      <td>1</td>\n",
       "      <td>-22.561752</td>\n",
       "      <td>-45.653728</td>\n",
       "    </tr>\n",
       "    <tr>\n",
       "      <th>2</th>\n",
       "      <td>2</td>\n",
       "      <td>-23.199113</td>\n",
       "      <td>-47.064822</td>\n",
       "    </tr>\n",
       "    <tr>\n",
       "      <th>3</th>\n",
       "      <td>3</td>\n",
       "      <td>-23.703180</td>\n",
       "      <td>-46.827509</td>\n",
       "    </tr>\n",
       "    <tr>\n",
       "      <th>4</th>\n",
       "      <td>4</td>\n",
       "      <td>-22.518834</td>\n",
       "      <td>-45.648207</td>\n",
       "    </tr>\n",
       "  </tbody>\n",
       "</table>\n",
       "</div>"
      ],
      "text/plain": [
       "   ID   latitude  longitude\n",
       "0   0 -22.481797 -45.598899\n",
       "1   1 -22.561752 -45.653728\n",
       "2   2 -23.199113 -47.064822\n",
       "3   3 -23.703180 -46.827509\n",
       "4   4 -22.518834 -45.648207"
      ]
     },
     "execution_count": 33,
     "metadata": {},
     "output_type": "execute_result"
    }
   ],
   "source": [
    "caixas_df = pd.read_csv('data/caixas.csv')\n",
    "caixas_df.head()"
   ]
  },
  {
   "cell_type": "code",
   "execution_count": 34,
   "metadata": {},
   "outputs": [
    {
     "data": {
      "text/html": [
       "<div>\n",
       "<style scoped>\n",
       "    .dataframe tbody tr th:only-of-type {\n",
       "        vertical-align: middle;\n",
       "    }\n",
       "\n",
       "    .dataframe tbody tr th {\n",
       "        vertical-align: top;\n",
       "    }\n",
       "\n",
       "    .dataframe thead th {\n",
       "        text-align: right;\n",
       "    }\n",
       "</style>\n",
       "<table border=\"1\" class=\"dataframe\">\n",
       "  <thead>\n",
       "    <tr style=\"text-align: right;\">\n",
       "      <th></th>\n",
       "      <th>ID</th>\n",
       "      <th>latitude</th>\n",
       "      <th>longitude</th>\n",
       "    </tr>\n",
       "  </thead>\n",
       "  <tbody>\n",
       "    <tr>\n",
       "      <th>0</th>\n",
       "      <td>0</td>\n",
       "      <td>-22.692173</td>\n",
       "      <td>-45.559767</td>\n",
       "    </tr>\n",
       "    <tr>\n",
       "      <th>1</th>\n",
       "      <td>1</td>\n",
       "      <td>-23.434914</td>\n",
       "      <td>-46.638857</td>\n",
       "    </tr>\n",
       "    <tr>\n",
       "      <th>2</th>\n",
       "      <td>2</td>\n",
       "      <td>-23.593379</td>\n",
       "      <td>-46.444647</td>\n",
       "    </tr>\n",
       "    <tr>\n",
       "      <th>3</th>\n",
       "      <td>3</td>\n",
       "      <td>-22.479553</td>\n",
       "      <td>-45.678543</td>\n",
       "    </tr>\n",
       "    <tr>\n",
       "      <th>4</th>\n",
       "      <td>4</td>\n",
       "      <td>-23.811076</td>\n",
       "      <td>-46.645090</td>\n",
       "    </tr>\n",
       "  </tbody>\n",
       "</table>\n",
       "</div>"
      ],
      "text/plain": [
       "   ID   latitude  longitude\n",
       "0   0 -22.692173 -45.559767\n",
       "1   1 -23.434914 -46.638857\n",
       "2   2 -23.593379 -46.444647\n",
       "3   3 -22.479553 -45.678543\n",
       "4   4 -23.811076 -46.645090"
      ]
     },
     "execution_count": 34,
     "metadata": {},
     "output_type": "execute_result"
    }
   ],
   "source": [
    "clientes_df = pd.read_csv('data/clientes.csv')\n",
    "clientes_df.head()"
   ]
  },
  {
   "cell_type": "code",
   "execution_count": 35,
   "metadata": {},
   "outputs": [
    {
     "name": "stdout",
     "output_type": "stream",
     "text": [
      "<class 'geopandas.geodataframe.GeoDataFrame'>\n",
      "RangeIndex: 1500 entries, 0 to 1499\n",
      "Data columns (total 4 columns):\n",
      " #   Column     Non-Null Count  Dtype   \n",
      "---  ------     --------------  -----   \n",
      " 0   ID         1500 non-null   int64   \n",
      " 1   latitude   1500 non-null   float64 \n",
      " 2   longitude  1500 non-null   float64 \n",
      " 3   geometry   1500 non-null   geometry\n",
      "dtypes: float64(2), geometry(1), int64(1)\n",
      "memory usage: 47.0 KB\n"
     ]
    }
   ],
   "source": [
    "geo_caixas = gpd.GeoDataFrame(caixas_df, geometry=gpd.points_from_xy(caixas_df.longitude, caixas_df.latitude))\n",
    "geo_caixas.info()"
   ]
  },
  {
   "cell_type": "code",
   "execution_count": 36,
   "metadata": {},
   "outputs": [
    {
     "name": "stdout",
     "output_type": "stream",
     "text": [
      "<class 'geopandas.geodataframe.GeoDataFrame'>\n",
      "RangeIndex: 10000 entries, 0 to 9999\n",
      "Data columns (total 4 columns):\n",
      " #   Column     Non-Null Count  Dtype   \n",
      "---  ------     --------------  -----   \n",
      " 0   ID         10000 non-null  int64   \n",
      " 1   latitude   10000 non-null  float64 \n",
      " 2   longitude  10000 non-null  float64 \n",
      " 3   geometry   10000 non-null  geometry\n",
      "dtypes: float64(2), geometry(1), int64(1)\n",
      "memory usage: 312.6 KB\n"
     ]
    }
   ],
   "source": [
    "geo_clientes = gpd.GeoDataFrame(clientes_df, geometry=gpd.points_from_xy(clientes_df.longitude, clientes_df.latitude))\n",
    "geo_clientes.info()"
   ]
  },
  {
   "attachments": {},
   "cell_type": "markdown",
   "metadata": {},
   "source": [
    "### Calculando a distancia até os caixas"
   ]
  },
  {
   "cell_type": "code",
   "execution_count": 37,
   "metadata": {},
   "outputs": [],
   "source": [
    "geo_clientes['distancia_caixa'] = None"
   ]
  },
  {
   "cell_type": "code",
   "execution_count": 38,
   "metadata": {},
   "outputs": [],
   "source": [
    "for index_caixa, caixa in geo_caixas.iterrows():\n",
    "    # calcular a distância entre a caixa e cada cliente\n",
    "    geo_clientes['distancia_caixa'] = geo_clientes.distance(caixa.geometry)\n",
    "    # selecionar o cliente mais próximo\n",
    "    cliente_proximo = geo_clientes.loc[geo_clientes['distancia_caixa'].idxmin()]\n",
    "    # armazenar a distância para o cliente mais próximo\n",
    "    geo_clientes.loc[cliente_proximo.name, 'distancia_caixa'] = cliente_proximo['distancia_caixa']"
   ]
  },
  {
   "attachments": {},
   "cell_type": "markdown",
   "metadata": {},
   "source": [
    "### Qual é o cliente que possui o caixa mais próximo?"
   ]
  },
  {
   "cell_type": "code",
   "execution_count": 39,
   "metadata": {},
   "outputs": [
    {
     "name": "stdout",
     "output_type": "stream",
     "text": [
      "O cliente com a menor distância em relação a qualquer caixa é o cliente 5725, há distancia de 0.002km\n"
     ]
    }
   ],
   "source": [
    "cliente_mais_proximo = geo_clientes.loc[geo_clientes['distancia_caixa'].idxmin()]\n",
    "f\"O cliente com a menor distância em relação a qualquer caixa é o cliente {cliente_mais_proximo.ID}, há distancia de {round(cliente_mais_proximo.distancia_caixa, 3)}km\""
   ]
  },
  {
   "attachments": {},
   "cell_type": "markdown",
   "metadata": {},
   "source": [
    "### Qual é o cliente que possui o caixa mais distante?"
   ]
  },
  {
   "cell_type": "code",
   "execution_count": 40,
   "metadata": {},
   "outputs": [
    {
     "name": "stdout",
     "output_type": "stream",
     "text": [
      "O cliente com a maior distância em relação a qualquer caixa é o cliente 4400, há distancia de 1.765km\n"
     ]
    }
   ],
   "source": [
    "client_mais_distante = geo_clientes.loc[geo_clientes['distancia_caixa'].idxmax()]\n",
    "f\"O cliente com a maior distância em relação a qualquer caixa é o cliente {client_mais_distante.ID}, há distancia de {round(client_mais_distante.distancia_caixa, 3)}km\""
   ]
  },
  {
   "attachments": {},
   "cell_type": "markdown",
   "metadata": {},
   "source": [
    "### Qual é a distância média das residências dos clientes em relação ao caixa mais próximo?"
   ]
  },
  {
   "cell_type": "code",
   "execution_count": 41,
   "metadata": {},
   "outputs": [
    {
     "name": "stdout",
     "output_type": "stream",
     "text": [
      "A média de distância entre os clientes e as caixas é de 0.929km\n"
     ]
    }
   ],
   "source": [
    "media_distancias = geo_clientes['distancia_caixa'].mean()\n",
    "f\"A média de distância entre os clientes e as caixas é de {round(media_distancias, 3)}km\""
   ]
  }
 ],
 "metadata": {
  "kernelspec": {
   "display_name": "geoloc",
   "language": "python",
   "name": "python3"
  },
  "language_info": {
   "codemirror_mode": {
    "name": "ipython",
    "version": 3
   },
   "file_extension": ".py",
   "mimetype": "text/x-python",
   "name": "python",
   "nbconvert_exporter": "python",
   "pygments_lexer": "ipython3",
   "version": "3.9.16"
  },
  "orig_nbformat": 4
 },
 "nbformat": 4,
 "nbformat_minor": 2
}
